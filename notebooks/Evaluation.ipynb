{
 "cells": [
  {
   "cell_type": "code",
   "execution_count": 2,
   "id": "5048388e",
   "metadata": {},
   "outputs": [
    {
     "name": "stderr",
     "output_type": "stream",
     "text": [
      "C:\\Users\\user\\AppData\\Local\\Temp\\ipykernel_1776\\3377161591.py:1: DeprecationWarning: Importing display from IPython.core.display is deprecated since IPython 7.14, please import from IPython display\n",
      "  from IPython.core.display import display, HTML\n"
     ]
    },
    {
     "data": {
      "text/html": [
       "<style>.container { width:100% !important; }</style>"
      ],
      "text/plain": [
       "<IPython.core.display.HTML object>"
      ]
     },
     "metadata": {},
     "output_type": "display_data"
    }
   ],
   "source": [
    "from IPython.core.display import display, HTML\n",
    "display(HTML(\"<style>.container { width:100% !important; }</style>\"))\n",
    "\n",
    "import numpy as np\n",
    "import pandas as pd\n",
    "import argparse\n",
    "import json\n",
    "import os\n",
    "from collections import OrderedDict\n",
    "import torch\n",
    "import csv\n",
    "import util\n",
    "from transformers import DistilBertTokenizerFast, AutoTokenizer\n",
    "from transformers import DistilBertForQuestionAnswering, AutoModelForQuestionAnswering\n",
    "from transformers import AdamW\n",
    "from tensorboardX import SummaryWriter\n",
    "\n",
    "from torch.utils.data import DataLoader\n",
    "from torch.utils.data.sampler import RandomSampler, SequentialSampler\n",
    "from args import get_train_test_args\n",
    "from train import prepare_eval_data, prepare_train_data, read_and_process, get_dataset\n",
    "from util import compute_f1, compute_em\n",
    "from mymodel.model import MyModel\n",
    "\n",
    "from tqdm import tqdm"
   ]
  },
  {
   "cell_type": "markdown",
   "id": "05550772",
   "metadata": {},
   "source": [
    "### 함수 정의"
   ]
  },
  {
   "cell_type": "code",
   "execution_count": 2,
   "id": "69bf69a2",
   "metadata": {},
   "outputs": [],
   "source": [
    "def read_and_process(tokenizer, dataset_dict, dir_name, dataset_name, split):\n",
    "    #TODO: cache this if possible\n",
    "    cache_path = f'{dir_name}/{dataset_name}_encodings.pt'\n",
    "    if os.path.exists(cache_path) and not True:\n",
    "        tokenized_examples = util.load_pickle(cache_path)\n",
    "    else:\n",
    "        if split=='train':\n",
    "            tokenized_examples = prepare_train_data(dataset_dict, tokenizer)\n",
    "        else:\n",
    "            tokenized_examples = prepare_eval_data(dataset_dict, tokenizer)\n",
    "        util.save_pickle(tokenized_examples, cache_path)\n",
    "    return tokenized_examples\n",
    "\n",
    "def get_dataset(datasets, data_dir, tokenizer, split_name):\n",
    "    datasets = datasets.split(',')\n",
    "    dataset_dict = None\n",
    "    dataset_name=''\n",
    "    for dataset in datasets:\n",
    "        dataset_name += f'_{dataset}'\n",
    "        dataset_dict_curr = util.read_squad(f'{data_dir}/{dataset}')\n",
    "        dataset_dict = util.merge(dataset_dict, dataset_dict_curr)\n",
    "    data_encodings = read_and_process(tokenizer, dataset_dict, data_dir, dataset_name, split_name)\n",
    "    return util.QADataset(data_encodings, train=(split_name=='train')), dataset_dict\n",
    "\n",
    "def evaluate(model, data_loader, data_dict, return_preds=False, split='validation'):\n",
    "    device = torch.device('cuda') if torch.cuda.is_available() else torch.device('cpu')\n",
    "\n",
    "    model.eval()\n",
    "    pred_dict = {}\n",
    "    all_start_logits = []\n",
    "    all_end_logits = []\n",
    "    with torch.no_grad(), \\\n",
    "            tqdm(total=len(data_loader.dataset)) as progress_bar:\n",
    "        for batch in data_loader:\n",
    "            # Setup for forward\n",
    "            input_ids = batch['input_ids'].to(device)\n",
    "            attention_mask = batch['attention_mask'].to(device)\n",
    "            batch_size = len(input_ids)\n",
    "            outputs = model(input_ids, attention_mask=attention_mask)\n",
    "            # Forward\n",
    "            start_logits, end_logits = outputs.start_logits, outputs.end_logits\n",
    "            # TODO: compute loss\n",
    "\n",
    "            all_start_logits.append(start_logits)\n",
    "            all_end_logits.append(end_logits)\n",
    "            progress_bar.update(batch_size)\n",
    "\n",
    "    # Get F1 and EM scores\n",
    "    start_logits = torch.cat(all_start_logits).cpu().numpy()\n",
    "    end_logits = torch.cat(all_end_logits).cpu().numpy()\n",
    "    preds = util.postprocess_qa_predictions(data_dict,\n",
    "                                             data_loader.dataset.encodings,\n",
    "                                             (start_logits, end_logits))\n",
    "    preds = util.postprocess_qa_predictions(data_dict,\n",
    "                                                 data_loader.dataset.encodings,\n",
    "                                                 (start_logits, end_logits))\n",
    "    if split == 'validation':\n",
    "        results = util.eval_dicts(data_dict, preds)\n",
    "        results_list = [('F1', results['F1']),\n",
    "                        ('EM', results['EM'])]\n",
    "    else:\n",
    "        results_list = [('F1', -1.0),\n",
    "                        ('EM', -1.0)]\n",
    "    results = OrderedDict(results_list)\n",
    "    if return_preds:\n",
    "        return preds, results\n",
    "    return results"
   ]
  },
  {
   "cell_type": "code",
   "execution_count": 3,
   "id": "1f0327e2",
   "metadata": {},
   "outputs": [],
   "source": [
    "# eval_dir = 'datasets/indomain_val'\n",
    "# eval_datasets = 'squad,nat_questions,newsqa'\n",
    "\n",
    "eval_dir = 'datasets/oodomain_val'\n",
    "eval_datasets = 'race,relation_extraction,duorc'\n",
    "\n",
    "batch_size = 16"
   ]
  },
  {
   "cell_type": "code",
   "execution_count": 4,
   "id": "18286bbe",
   "metadata": {
    "scrolled": true
   },
   "outputs": [
    {
     "name": "stdout",
     "output_type": "stream",
     "text": [
      "./save/00.aa/05.Ablation-ab//0.0and0.0-01\\checkpoint\n"
     ]
    },
    {
     "name": "stderr",
     "output_type": "stream",
     "text": [
      "100%|█████████████████████████████████████████████████████████████████████████████| 721/721 [00:00<00:00, 27724.64it/s]\n",
      "100%|███████████████████████████████████████████████████████████████████████████████| 721/721 [00:05<00:00, 142.88it/s]\n",
      "100%|██████████████████████████████████████████████████████████████████████████████| 382/382 [00:00<00:00, 2580.49it/s]\n",
      "100%|██████████████████████████████████████████████████████████████████████████████| 382/382 [00:00<00:00, 2633.87it/s]\n"
     ]
    },
    {
     "name": "stdout",
     "output_type": "stream",
     "text": [
      "./save/00.aa/05.Ablation-ab//0.0and0.1-01\\checkpoint\n"
     ]
    },
    {
     "name": "stderr",
     "output_type": "stream",
     "text": [
      "100%|█████████████████████████████████████████████████████████████████████████████| 721/721 [00:00<00:00, 27723.88it/s]\n",
      "100%|███████████████████████████████████████████████████████████████████████████████| 721/721 [00:02<00:00, 252.61it/s]\n",
      "100%|██████████████████████████████████████████████████████████████████████████████| 382/382 [00:00<00:00, 2670.73it/s]\n",
      "100%|██████████████████████████████████████████████████████████████████████████████| 382/382 [00:00<00:00, 2652.18it/s]\n"
     ]
    },
    {
     "name": "stdout",
     "output_type": "stream",
     "text": [
      "./save/00.aa/05.Ablation-ab//0.0and0.2-01\\checkpoint\n"
     ]
    },
    {
     "name": "stderr",
     "output_type": "stream",
     "text": [
      "100%|█████████████████████████████████████████████████████████████████████████████| 721/721 [00:00<00:00, 26698.33it/s]\n",
      "100%|███████████████████████████████████████████████████████████████████████████████| 721/721 [00:02<00:00, 251.40it/s]\n",
      "100%|██████████████████████████████████████████████████████████████████████████████| 382/382 [00:00<00:00, 2546.09it/s]\n",
      "100%|██████████████████████████████████████████████████████████████████████████████| 382/382 [00:00<00:00, 2546.10it/s]\n"
     ]
    },
    {
     "name": "stdout",
     "output_type": "stream",
     "text": [
      "./save/00.aa/05.Ablation-ab//0.0and0.3-01\\checkpoint\n"
     ]
    },
    {
     "name": "stderr",
     "output_type": "stream",
     "text": [
      "100%|█████████████████████████████████████████████████████████████████████████████| 721/721 [00:00<00:00, 26697.62it/s]\n",
      "100%|███████████████████████████████████████████████████████████████████████████████| 721/721 [00:02<00:00, 252.12it/s]\n",
      "100%|██████████████████████████████████████████████████████████████████████████████| 382/382 [00:00<00:00, 2615.86it/s]\n",
      "100%|██████████████████████████████████████████████████████████████████████████████| 382/382 [00:00<00:00, 2563.18it/s]\n"
     ]
    },
    {
     "name": "stdout",
     "output_type": "stream",
     "text": [
      "./save/00.aa/05.Ablation-ab//0.0and0.4-01\\checkpoint\n"
     ]
    },
    {
     "name": "stderr",
     "output_type": "stream",
     "text": [
      "100%|█████████████████████████████████████████████████████████████████████████████| 721/721 [00:00<00:00, 28833.29it/s]\n",
      "100%|███████████████████████████████████████████████████████████████████████████████| 721/721 [00:02<00:00, 259.15it/s]\n",
      "100%|██████████████████████████████████████████████████████████████████████████████| 382/382 [00:00<00:00, 2563.18it/s]\n",
      "100%|██████████████████████████████████████████████████████████████████████████████| 382/382 [00:00<00:00, 2529.23it/s]\n"
     ]
    },
    {
     "name": "stdout",
     "output_type": "stream",
     "text": [
      "./save/00.aa/05.Ablation-ab//0.0and0.5-01\\checkpoint\n"
     ]
    },
    {
     "name": "stderr",
     "output_type": "stream",
     "text": [
      "100%|█████████████████████████████████████████████████████████████████████████████| 721/721 [00:00<00:00, 26697.39it/s]\n",
      "100%|███████████████████████████████████████████████████████████████████████████████| 721/721 [00:02<00:00, 251.03it/s]\n",
      "100%|██████████████████████████████████████████████████████████████████████████████| 382/382 [00:00<00:00, 2615.84it/s]\n",
      "100%|██████████████████████████████████████████████████████████████████████████████| 382/382 [00:00<00:00, 2563.18it/s]\n"
     ]
    },
    {
     "name": "stdout",
     "output_type": "stream",
     "text": [
      "./save/00.aa/05.Ablation-ab//0.0and0.6-01\\checkpoint\n"
     ]
    },
    {
     "name": "stderr",
     "output_type": "stream",
     "text": [
      "100%|█████████████████████████████████████████████████████████████████████████████| 721/721 [00:00<00:00, 25743.32it/s]\n",
      "100%|███████████████████████████████████████████████████████████████████████████████| 721/721 [00:02<00:00, 252.49it/s]\n",
      "100%|██████████████████████████████████████████████████████████████████████████████| 382/382 [00:00<00:00, 2652.17it/s]\n",
      "100%|██████████████████████████████████████████████████████████████████████████████| 382/382 [00:00<00:00, 2615.84it/s]\n"
     ]
    },
    {
     "name": "stdout",
     "output_type": "stream",
     "text": [
      "./save/00.aa/05.Ablation-ab//0.0and0.7-01\\checkpoint\n"
     ]
    },
    {
     "name": "stderr",
     "output_type": "stream",
     "text": [
      "100%|█████████████████████████████████████████████████████████████████████████████| 721/721 [00:00<00:00, 27724.90it/s]\n",
      "100%|███████████████████████████████████████████████████████████████████████████████| 721/721 [00:02<00:00, 259.53it/s]\n",
      "100%|██████████████████████████████████████████████████████████████████████████████| 382/382 [00:00<00:00, 2633.89it/s]\n",
      "100%|██████████████████████████████████████████████████████████████████████████████| 382/382 [00:00<00:00, 2598.04it/s]\n"
     ]
    },
    {
     "name": "stdout",
     "output_type": "stream",
     "text": [
      "./save/00.aa/05.Ablation-ab//0.0and0.8-01\\checkpoint\n"
     ]
    },
    {
     "name": "stderr",
     "output_type": "stream",
     "text": [
      "100%|█████████████████████████████████████████████████████████████████████████████| 721/721 [00:00<00:00, 27724.39it/s]\n",
      "100%|███████████████████████████████████████████████████████████████████████████████| 721/721 [00:02<00:00, 247.57it/s]\n",
      "100%|██████████████████████████████████████████████████████████████████████████████| 382/382 [00:00<00:00, 2580.51it/s]\n",
      "100%|██████████████████████████████████████████████████████████████████████████████| 382/382 [00:00<00:00, 2563.18it/s]\n"
     ]
    },
    {
     "name": "stdout",
     "output_type": "stream",
     "text": [
      "./save/00.aa/05.Ablation-ab//0.0and0.9-01\\checkpoint\n"
     ]
    },
    {
     "name": "stderr",
     "output_type": "stream",
     "text": [
      "100%|█████████████████████████████████████████████████████████████████████████████| 721/721 [00:00<00:00, 27724.64it/s]\n",
      "100%|███████████████████████████████████████████████████████████████████████████████| 721/721 [00:02<00:00, 250.59it/s]\n",
      "100%|██████████████████████████████████████████████████████████████████████████████| 382/382 [00:00<00:00, 2708.63it/s]\n",
      "100%|██████████████████████████████████████████████████████████████████████████████| 382/382 [00:00<00:00, 2727.95it/s]\n"
     ]
    },
    {
     "name": "stdout",
     "output_type": "stream",
     "text": [
      "./save/00.aa/05.Ablation-ab//0.0and1.0-01\\checkpoint\n"
     ]
    },
    {
     "name": "stderr",
     "output_type": "stream",
     "text": [
      "100%|█████████████████████████████████████████████████████████████████████████████| 721/721 [00:00<00:00, 25743.76it/s]\n",
      "100%|███████████████████████████████████████████████████████████████████████████████| 721/721 [00:02<00:00, 248.76it/s]\n",
      "100%|██████████████████████████████████████████████████████████████████████████████| 382/382 [00:00<00:00, 2670.72it/s]\n",
      "100%|██████████████████████████████████████████████████████████████████████████████| 382/382 [00:00<00:00, 2670.73it/s]\n"
     ]
    },
    {
     "name": "stdout",
     "output_type": "stream",
     "text": [
      "./save/00.aa/05.Ablation-ab//0.1and0.0-01\\checkpoint\n"
     ]
    },
    {
     "name": "stderr",
     "output_type": "stream",
     "text": [
      "100%|█████████████████████████████████████████████████████████████████████████████| 721/721 [00:00<00:00, 27724.13it/s]\n",
      "100%|███████████████████████████████████████████████████████████████████████████████| 721/721 [00:02<00:00, 252.08it/s]\n",
      "100%|██████████████████████████████████████████████████████████████████████████████| 382/382 [00:00<00:00, 2401.97it/s]\n",
      "100%|██████████████████████████████████████████████████████████████████████████████| 382/382 [00:00<00:00, 2386.96it/s]\n"
     ]
    },
    {
     "name": "stdout",
     "output_type": "stream",
     "text": [
      "./save/00.aa/05.Ablation-ab//0.2and0.0-01\\checkpoint\n"
     ]
    },
    {
     "name": "stderr",
     "output_type": "stream",
     "text": [
      "100%|█████████████████████████████████████████████████████████████████████████████| 721/721 [00:00<00:00, 26697.39it/s]\n",
      "100%|███████████████████████████████████████████████████████████████████████████████| 721/721 [00:02<00:00, 249.90it/s]\n",
      "100%|██████████████████████████████████████████████████████████████████████████████| 382/382 [00:00<00:00, 2463.96it/s]\n",
      "100%|██████████████████████████████████████████████████████████████████████████████| 382/382 [00:00<00:00, 2432.57it/s]\n"
     ]
    },
    {
     "name": "stdout",
     "output_type": "stream",
     "text": [
      "./save/00.aa/05.Ablation-ab//0.3and0.0-01\\checkpoint\n"
     ]
    },
    {
     "name": "stderr",
     "output_type": "stream",
     "text": [
      "100%|█████████████████████████████████████████████████████████████████████████████| 721/721 [00:00<00:00, 25743.97it/s]\n",
      "100%|███████████████████████████████████████████████████████████████████████████████| 721/721 [00:02<00:00, 256.14it/s]\n",
      "100%|██████████████████████████████████████████████████████████████████████████████| 382/382 [00:00<00:00, 2463.97it/s]\n",
      "100%|██████████████████████████████████████████████████████████████████████████████| 382/382 [00:00<00:00, 2512.59it/s]\n"
     ]
    },
    {
     "name": "stdout",
     "output_type": "stream",
     "text": [
      "./save/00.aa/05.Ablation-ab//0.4and0.0-01\\checkpoint\n"
     ]
    },
    {
     "name": "stderr",
     "output_type": "stream",
     "text": [
      "100%|█████████████████████████████████████████████████████████████████████████████| 721/721 [00:00<00:00, 27724.64it/s]\n",
      "100%|███████████████████████████████████████████████████████████████████████████████| 721/721 [00:02<00:00, 243.94it/s]\n",
      "100%|██████████████████████████████████████████████████████████████████████████████| 382/382 [00:00<00:00, 2463.96it/s]\n",
      "100%|██████████████████████████████████████████████████████████████████████████████| 382/382 [00:00<00:00, 2432.57it/s]\n"
     ]
    },
    {
     "name": "stdout",
     "output_type": "stream",
     "text": [
      "./save/00.aa/05.Ablation-ab//0.5and0.0-01\\checkpoint\n"
     ]
    },
    {
     "name": "stderr",
     "output_type": "stream",
     "text": [
      "100%|█████████████████████████████████████████████████████████████████████████████| 721/721 [00:00<00:00, 26697.62it/s]\n",
      "100%|███████████████████████████████████████████████████████████████████████████████| 721/721 [00:02<00:00, 245.46it/s]\n",
      "100%|██████████████████████████████████████████████████████████████████████████████| 382/382 [00:00<00:00, 2448.15it/s]\n",
      "100%|██████████████████████████████████████████████████████████████████████████████| 382/382 [00:00<00:00, 2432.57it/s]\n"
     ]
    },
    {
     "name": "stdout",
     "output_type": "stream",
     "text": [
      "./save/00.aa/05.Ablation-ab//0.6and0.0-01\\checkpoint\n"
     ]
    },
    {
     "name": "stderr",
     "output_type": "stream",
     "text": [
      "100%|█████████████████████████████████████████████████████████████████████████████| 721/721 [00:00<00:00, 27724.64it/s]\n",
      "100%|███████████████████████████████████████████████████████████████████████████████| 721/721 [00:02<00:00, 248.22it/s]\n",
      "100%|██████████████████████████████████████████████████████████████████████████████| 382/382 [00:00<00:00, 2463.97it/s]\n",
      "100%|██████████████████████████████████████████████████████████████████████████████| 382/382 [00:00<00:00, 2448.16it/s]\n"
     ]
    },
    {
     "name": "stdout",
     "output_type": "stream",
     "text": [
      "./save/00.aa/05.Ablation-ab//0.7and0.0-01\\checkpoint\n"
     ]
    },
    {
     "name": "stderr",
     "output_type": "stream",
     "text": [
      "100%|█████████████████████████████████████████████████████████████████████████████| 721/721 [00:00<00:00, 27725.15it/s]\n",
      "100%|███████████████████████████████████████████████████████████████████████████████| 721/721 [00:02<00:00, 247.38it/s]\n",
      "100%|██████████████████████████████████████████████████████████████████████████████| 382/382 [00:00<00:00, 2479.96it/s]\n",
      "100%|██████████████████████████████████████████████████████████████████████████████| 382/382 [00:00<00:00, 2463.97it/s]\n"
     ]
    },
    {
     "name": "stdout",
     "output_type": "stream",
     "text": [
      "./save/00.aa/05.Ablation-ab//0.8and0.0-01\\checkpoint\n"
     ]
    },
    {
     "name": "stderr",
     "output_type": "stream",
     "text": [
      "100%|█████████████████████████████████████████████████████████████████████████████| 721/721 [00:00<00:00, 25743.76it/s]\n",
      "100%|███████████████████████████████████████████████████████████████████████████████| 721/721 [00:02<00:00, 256.73it/s]\n",
      "100%|██████████████████████████████████████████████████████████████████████████████| 382/382 [00:00<00:00, 2496.16it/s]\n",
      "100%|██████████████████████████████████████████████████████████████████████████████| 382/382 [00:00<00:00, 2463.96it/s]\n"
     ]
    },
    {
     "name": "stdout",
     "output_type": "stream",
     "text": [
      "./save/00.aa/05.Ablation-ab//0.9and0.0-01\\checkpoint\n"
     ]
    },
    {
     "name": "stderr",
     "output_type": "stream",
     "text": [
      "100%|█████████████████████████████████████████████████████████████████████████████| 721/721 [00:00<00:00, 27724.90it/s]\n",
      "100%|███████████████████████████████████████████████████████████████████████████████| 721/721 [00:02<00:00, 248.24it/s]\n",
      "100%|██████████████████████████████████████████████████████████████████████████████| 382/382 [00:00<00:00, 2432.57it/s]\n",
      "100%|██████████████████████████████████████████████████████████████████████████████| 382/382 [00:00<00:00, 2417.19it/s]\n"
     ]
    },
    {
     "name": "stdout",
     "output_type": "stream",
     "text": [
      "./save/00.aa/05.Ablation-ab//1.0and0.0-01\\checkpoint\n"
     ]
    },
    {
     "name": "stderr",
     "output_type": "stream",
     "text": [
      "100%|█████████████████████████████████████████████████████████████████████████████| 721/721 [00:00<00:00, 25744.41it/s]\n",
      "100%|███████████████████████████████████████████████████████████████████████████████| 721/721 [00:02<00:00, 249.38it/s]\n",
      "100%|██████████████████████████████████████████████████████████████████████████████| 382/382 [00:00<00:00, 2512.58it/s]\n",
      "100%|██████████████████████████████████████████████████████████████████████████████| 382/382 [00:00<00:00, 2479.95it/s]\n"
     ]
    },
    {
     "ename": "ValueError",
     "evalue": "could not convert string to float: 'log_train.txt'",
     "output_type": "error",
     "traceback": [
      "\u001b[1;31m---------------------------------------------------------------------------\u001b[0m",
      "\u001b[1;31mValueError\u001b[0m                                Traceback (most recent call last)",
      "Cell \u001b[1;32mIn [4], line 13\u001b[0m\n\u001b[0;32m      9\u001b[0m names \u001b[38;5;241m=\u001b[39m []\n\u001b[0;32m     11\u001b[0m \u001b[38;5;28;01mfor\u001b[39;00m d \u001b[38;5;129;01min\u001b[39;00m ds:\n\u001b[1;32m---> 13\u001b[0m     a \u001b[38;5;241m=\u001b[39m \u001b[38;5;28;43mfloat\u001b[39;49m\u001b[43m(\u001b[49m\u001b[43md\u001b[49m\u001b[38;5;241;43m.\u001b[39;49m\u001b[43msplit\u001b[49m\u001b[43m(\u001b[49m\u001b[38;5;124;43m'\u001b[39;49m\u001b[38;5;124;43mand\u001b[39;49m\u001b[38;5;124;43m'\u001b[39;49m\u001b[43m)\u001b[49m\u001b[43m[\u001b[49m\u001b[38;5;241;43m0\u001b[39;49m\u001b[43m]\u001b[49m\u001b[43m)\u001b[49m\n\u001b[0;32m     14\u001b[0m     b \u001b[38;5;241m=\u001b[39m \u001b[38;5;28mfloat\u001b[39m(d\u001b[38;5;241m.\u001b[39msplit(\u001b[38;5;124m'\u001b[39m\u001b[38;5;124mand\u001b[39m\u001b[38;5;124m'\u001b[39m)[\u001b[38;5;241m1\u001b[39m]\u001b[38;5;241m.\u001b[39msplit(\u001b[38;5;124m'\u001b[39m\u001b[38;5;124m-\u001b[39m\u001b[38;5;124m'\u001b[39m)[\u001b[38;5;241m0\u001b[39m])\n\u001b[0;32m     16\u001b[0m     \u001b[38;5;28;01mif\u001b[39;00m (a \u001b[38;5;241m!=\u001b[39m \u001b[38;5;241m0.0\u001b[39m) \u001b[38;5;129;01mand\u001b[39;00m (b \u001b[38;5;241m!=\u001b[39m \u001b[38;5;241m0.0\u001b[39m):\n",
      "\u001b[1;31mValueError\u001b[0m: could not convert string to float: 'log_train.txt'"
     ]
    }
   ],
   "source": [
    "tokenizers = {'TinyBERT':\"deepset/tinybert-6l-768d-squad2\", 'DistilBERT':'distilbert-base-uncased', 'BERT':'bert-base-uncased', 'SqueezeBERT':'squeezebert/squeezebert-uncased'}\n",
    "\n",
    "path = './save/00.aa/05.Ablation-ab/'\n",
    "\n",
    "ds = os.listdir(path)\n",
    "\n",
    "f1s = []\n",
    "ems = []\n",
    "names = []\n",
    "\n",
    "for d in ds:\n",
    "\n",
    "    tokenizer = AutoTokenizer.from_pretrained('deepset/tinybert-6l-768d-squad2')\n",
    "\n",
    "    device = torch.device('cuda') if torch.cuda.is_available() else torch.device('cpu')\n",
    "\n",
    "    split_name = 'test' if 'test' in eval_dir else 'validation'\n",
    "\n",
    "    checkpoint_path = os.path.join(path+'/{}'.format(d), 'checkpoint')\n",
    "    \n",
    "    print(checkpoint_path)\n",
    "\n",
    "    model = AutoModelForQuestionAnswering.from_pretrained(checkpoint_path)\n",
    "\n",
    "    model.to(device)\n",
    "    \n",
    "    eval_dataset, eval_dict = get_dataset(eval_datasets, eval_dir, tokenizer, split_name)\n",
    "\n",
    "    eval_loader = DataLoader(eval_dataset,batch_size=batch_size,sampler=SequentialSampler(eval_dataset))\n",
    "    \n",
    "    eval_preds, eval_scores = evaluate(model, eval_loader,eval_dict, return_preds=True, split=split_name)\n",
    "    \n",
    "    f1 = eval_scores['F1']\n",
    "    em = eval_scores['EM']\n",
    "        \n",
    "    f1s.append(f1)\n",
    "    ems.append(em)\n",
    "    names.append(d)"
   ]
  },
  {
   "cell_type": "code",
   "execution_count": 5,
   "id": "70c5e99c",
   "metadata": {},
   "outputs": [
    {
     "name": "stdout",
     "output_type": "stream",
     "text": [
      "0 clsent 50.1692542778479 35.602094240837694\n",
      "1 clssim 49.48590136209478 33.246073298429316\n",
      "2 onlycls 49.607004993576425 33.769633507853406\n"
     ]
    }
   ],
   "source": [
    "cnt = 0\n",
    "for n, f, e in zip(names, f1s, ems):\n",
    "    \n",
    "    print(cnt, n, f, e)\n",
    "    \n",
    "    cnt += 1"
   ]
  },
  {
   "cell_type": "code",
   "execution_count": null,
   "id": "2b5cd406",
   "metadata": {},
   "outputs": [],
   "source": []
  }
 ],
 "metadata": {
  "kernelspec": {
   "display_name": "Python 3 (ipykernel)",
   "language": "python",
   "name": "python3"
  },
  "language_info": {
   "codemirror_mode": {
    "name": "ipython",
    "version": 3
   },
   "file_extension": ".py",
   "mimetype": "text/x-python",
   "name": "python",
   "nbconvert_exporter": "python",
   "pygments_lexer": "ipython3",
   "version": "3.8.13"
  }
 },
 "nbformat": 4,
 "nbformat_minor": 5
}
